{
  "nbformat": 4,
  "nbformat_minor": 0,
  "metadata": {
    "colab": {
      "name": "APIS_pipline_experimental.ipynb",
      "provenance": []
    },
    "kernelspec": {
      "name": "python3",
      "display_name": "Python 3"
    }
  },
  "cells": [
    {
      "cell_type": "markdown",
      "metadata": {
        "id": "Tg28NzibEA28",
        "colab_type": "text"
      },
      "source": [
        "# Finding timelaps photos"
      ]
    },
    {
      "cell_type": "markdown",
      "metadata": {
        "id": "U8dRJTxGEUL6",
        "colab_type": "text"
      },
      "source": [
        "Use OCR to find metadata, and compare \"T\" (timelaps) flag with standard flags to find timelaps photos and move them"
      ]
    },
    {
      "cell_type": "code",
      "metadata": {
        "id": "ZzXhIwd3d7EI",
        "colab_type": "code",
        "colab": {}
      },
      "source": [
        "from google.colab import drive\n",
        "drive.mount('/content/gdrive')"
      ],
      "execution_count": 0,
      "outputs": []
    },
    {
      "cell_type": "code",
      "metadata": {
        "id": "6uNtatdynWel",
        "colab_type": "code",
        "colab": {}
      },
      "source": [
        "!apt install tesseract-ocr\n",
        "!pip install pytesseract"
      ],
      "execution_count": 0,
      "outputs": []
    },
    {
      "cell_type": "code",
      "metadata": {
        "id": "riuWYvn9eNzK",
        "colab_type": "code",
        "colab": {}
      },
      "source": [
        "%cd /content/gdrive/My\\ Drive/CNBE01"
      ],
      "execution_count": 0,
      "outputs": []
    },
    {
      "cell_type": "markdown",
      "metadata": {
        "id": "c7k-VN5dWZyb",
        "colab_type": "text"
      },
      "source": [
        "Essential functions, this part only work for Reconyx cameras for now"
      ]
    },
    {
      "cell_type": "code",
      "metadata": {
        "id": "vWUvAOZBD99O",
        "colab_type": "code",
        "colab": {}
      },
      "source": [
        "from PIL import Image\n",
        "from PIL.ExifTags import TAGS, GPSTAGS\n",
        "import pytesseract as tes # this is the key package used in this OCR\n",
        "import os\n",
        "from pathlib import Path\n",
        "import numpy as np\n",
        "\n",
        "def extract_data_Reconyx(Img_dir,entries_range = {\"date_time\":(0,0,750,50),\n",
        "                          \"sequence_OCR\":(750,0,1000,50),\n",
        "                          \"temp\":(1720,0,1920,50), \n",
        "                          \"site\":(0,1030,400,1080)} ,timelapstag = \"T\",timelaps_dest = \"./timelaps\"): # @Img_dir is the path of image, @entries_range is the meta-data want to extract, should be an dictionary, with range of that metadata, see Reconyx_entries for an example\n",
        "    Img = Image.open(Img_dir) # open the image\n",
        "    res = {} # result dictionary\n",
        "    exif_data = Img._getexif()\n",
        "    \n",
        "    for entry in list(entries_range.keys()):\n",
        "        img_temp = Img.crop(entries_range[entry]) # crop out the part of interest\n",
        "        text = tes.image_to_string(img_temp) # get the meta-data\n",
        "        res[entry] = text\n",
        "        \n",
        "    res[\"original_path\"] = Img_dir\n",
        "    res[\"current_path\"] = Img_dir\n",
        "    flag_M = Image.open(\"/content/gdrive/My Drive/sequence_flag_M.JPG\") # standard M flag\n",
        "    flag_T = Image.open(\"/content/gdrive/My Drive/sequence_flag_T.JPG\") # standard T flag (timelaps)\n",
        "    flag_M_array = np.array(flag_M.convert(\"1\"))\n",
        "    flag_T_array = np.array(flag_T.convert(\"1\")) # change to binary\n",
        "    flag_curr = Img.crop((800,0,845,30))\n",
        "    flag_curr_array = np.array(flag_curr.convert(\"1\")) # change to binary for the flag part\n",
        "    pixels = flag_M.size[0]*flag_M.size[1] # how many pixels to compare\n",
        "    series_flags = (\"unknown\",\"M\",\"T\") # options of flags \n",
        "    res[\"series_flag\"]=series_flags[(sum(sum(flag_M_array==flag_curr_array))==pixels)+\n",
        "                                      2*(sum(sum(flag_T_array==flag_curr_array))==pixels)] # find the flag by perfect matching\n",
        "    if (res[\"series_flag\"]==timelapstag):\n",
        "      os.rename(Img_dir, Img_dir.replace(\"./\",timelaps_dest+\"/timelaps_\") ) # move timelaps to timelaps folder\n",
        "      res[\"current_path\"] = Img_dir.replace(\"./\",timelaps_dest+\"/timelaps_\") # make sure we still know where it is \n",
        "    res[\"date_time_exif\"] = exif_data[306] # extract date and time using exif, suppose we could extract sequence but I did not find it\n",
        "    return(res)\n",
        "\n"
      ],
      "execution_count": 0,
      "outputs": []
    },
    {
      "cell_type": "code",
      "metadata": {
        "id": "mNYmsoVvgCOi",
        "colab_type": "code",
        "colab": {}
      },
      "source": [
        "import glob\n",
        "import json\n",
        "def extract_data_Reconyx_batch(entries_range = {\"date_time\":(0,0,750,50),\n",
        "                          \"sequence\":(750,0,1000,50),\n",
        "                          \"temp\":(1720,0,1920,50), \n",
        "                          \"site\":(0,1030,400,1080)} ,timelapstag = \"T\",timelaps_dest = \"./timelaps\"):\n",
        "  photo_dirs = glob.glob(\"./*.[jJ][pP][gG]\") # all photos in the working dirctory\n",
        "  res = {}\n",
        "  err = {}\n",
        "  if not (os.path.exists(timelaps_dest)): # if timelaps folder does not exist, make one\n",
        "    os.mkdir(timelaps_dest)\n",
        "  for photo_dir in photo_dirs: # loop over photos\n",
        "    try:\n",
        "      temp = extract_data_Reconyx(photo_dir,entries_range,timelapstag,timelaps_dest)\n",
        "      res[photo_dir.replace(\"./\",\"\")] = temp\n",
        "    except Exception as e:\n",
        "      err[photo_dir.replace(\"./\",\"\")] = e\n",
        "  with open('Metadata-OCR.json', 'w') as fp: # write down metadata\n",
        "    json.dump(res, fp)\n",
        "  with open('err.json', 'w') as fperr:\n",
        "    json.dump(err, fperr)\n",
        "\n"
      ],
      "execution_count": 0,
      "outputs": []
    },
    {
      "cell_type": "code",
      "metadata": {
        "id": "z8c5qAZuT2_S",
        "colab_type": "code",
        "colab": {}
      },
      "source": [
        "extract_data_batch()"
      ],
      "execution_count": 0,
      "outputs": []
    },
    {
      "cell_type": "code",
      "metadata": {
        "id": "SBj82jKaSSHD",
        "colab_type": "code",
        "colab": {}
      },
      "source": [
        "def timelaps_filter_Reconyx(path_list): # absolute path list please.\n",
        "  for path in path_list:\n",
        "    os.chdir(path)\n",
        "    extract_data_Reconyx_batch()"
      ],
      "execution_count": 0,
      "outputs": []
    }
  ]
}